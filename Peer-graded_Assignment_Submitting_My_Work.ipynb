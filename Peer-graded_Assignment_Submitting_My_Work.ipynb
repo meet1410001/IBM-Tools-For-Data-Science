{
 "cells": [
  {
   "cell_type": "markdown",
   "id": "d34d3e87-c308-4c45-88a6-15fa3041336e",
   "metadata": {},
   "source": [
    "Exercise 2 - Create a markdown cell with the title of the notebook.\n",
    "\n",
    "Peer-graded_Assignment_Submitting_My_Work"
   ]
  },
  {
   "cell_type": "markdown",
   "id": "e12c6e20-8668-40d5-957d-d75e46434c80",
   "metadata": {},
   "source": [
    "Exercise 3 - Create a markdown cell for an introduction. \n",
    "\n",
    "In this notebook, Data Science Tools and Ecosystem are summarized.\r\n",
    "\r\n",
    "Objectives:\n",
    "\r\n",
    "\r\n",
    "List popular languages that Data Scientists u\n",
    "se.\r\n",
    "List commonly used libraries used by Data Scienti\n",
    "sts.\r\n",
    "Comment on Data Science tools."
   ]
  },
  {
   "cell_type": "markdown",
   "id": "fa7fc39f-9671-43f5-b607-c5969fffff3d",
   "metadata": {},
   "source": [
    "Exercise 4 - Create a markdown cell to list data science languages. \n",
    "\n",
    "Some of the popular languages that Data Scientists use are:\r\n",
    "\r\n",
    "Python.\r\n",
    "R.\r\n",
    "SQL.\r\n",
    "Java.\r\n",
    "Julia.\r\n",
    "Scala.\r\n",
    "C/C++.\r\n",
    "JavaScript."
   ]
  },
  {
   "cell_type": "markdown",
   "id": "7a58a31c-3ad4-4a76-bead-a05b8d7d5a23",
   "metadata": {},
   "source": [
    "Exercise 5 - Create a markdown cell to list data science libraries. \n",
    "\n",
    "Some of the commonly used libraries used by Data Scientists include:\n",
    "\n",
    "TensorFlow.\n",
    "NumPy.\n",
    "SciPy.\n",
    "Pandas.\n",
    "Matplotlib.\n",
    "Keras.\n",
    "SciKit-Learn.\n",
    "PyTorch.\n",
    "Scrapy.\n",
    "BeautifulSoup.\n",
    "LightGBM.\n",
    "ELI5.\n",
    "Theano.\n",
    "NuPIC.\n",
    "Ramp.\n",
    "Pipenv.\n",
    "Bob.\n",
    "PyBrain.\n",
    "Caffe2.\n",
    "Chainer."
   ]
  },
  {
   "cell_type": "markdown",
   "id": "07321f59-57b2-414a-bc20-dc6e3dd60ff4",
   "metadata": {},
   "source": [
    "Exercise 6 - Create a markdown cell with a table of Data Science tools. (3 pts)\n",
    "\n",
    "Data Science Tools:\n",
    "\n",
    "Data Science Tools\t\t\n",
    "SAS. It is one of those data science tools which are specifically designed for statistical operation\t\t\n",
    "Apache Spark\t\t\n",
    "BigML"
   ]
  },
  {
   "cell_type": "markdown",
   "id": "f6fdabd6-edc3-438f-b18a-dd6d8e4fb86f",
   "metadata": {},
   "source": [
    "Exercise 7 - Create a markdown cell introducing arithmetic expression examples. (1 pt)\n",
    "\n",
    "Below are a few examples of evaluating arithmetic expressions in Python\n"
   ]
  },
  {
   "cell_type": "code",
   "execution_count": 1,
   "id": "cf4320df-ecc2-4f4e-b275-d11a52e27742",
   "metadata": {},
   "outputs": [
    {
     "data": {
      "text/plain": [
       "9"
      ]
     },
     "execution_count": 1,
     "metadata": {},
     "output_type": "execute_result"
    }
   ],
   "source": [
    "# Arithmetic operations\n",
    "code = compile(\"5 + 4\", \"<string>\", \"eval\")\n",
    "eval(code)\n",
    "# Result: 9"
   ]
  },
  {
   "cell_type": "code",
   "execution_count": 2,
   "id": "43bb1c9e-7745-401b-96f8-85a5c5265864",
   "metadata": {},
   "outputs": [
    {
     "data": {
      "text/plain": [
       "24"
      ]
     },
     "execution_count": 2,
     "metadata": {},
     "output_type": "execute_result"
    }
   ],
   "source": [
    "code1 = compile(\"(5 + 7) * 2\", \"<string>\", \"eval\")\n",
    "eval(code1)\n",
    "# Result: 24"
   ]
  },
  {
   "cell_type": "code",
   "execution_count": 3,
   "id": "35d78fe1-4c87-43aa-a177-cd95fe910082",
   "metadata": {},
   "outputs": [
    {
     "data": {
      "text/plain": [
       "65449.84694978735"
      ]
     },
     "execution_count": 3,
     "metadata": {},
     "output_type": "execute_result"
    }
   ],
   "source": [
    "import math\n",
    "# Volume of a sphere\n",
    "code2 = compile(\"4 / 3 * math.pi * math.pow(25, 3)\", \"<string>\", \"eval\")\n",
    "eval(code2)\n",
    "# Result: 65449.84694978735"
   ]
  },
  {
   "cell_type": "markdown",
   "id": "cfee0a1d-e124-49dd-bfaa-fba18e3905e2",
   "metadata": {},
   "source": [
    "Exercise 8 - Create a code cell to multiply and add numbers.\n",
    "\n",
    "This a simple arithmetic expression to mutiply then add integers"
   ]
  },
  {
   "cell_type": "code",
   "execution_count": 4,
   "id": "35990be6-f4d1-443a-8f6d-d7e23e4749f0",
   "metadata": {},
   "outputs": [
    {
     "data": {
      "text/plain": [
       "17"
      ]
     },
     "execution_count": 4,
     "metadata": {},
     "output_type": "execute_result"
    }
   ],
   "source": [
    "(3*4)+5\n",
    "# Result: 17"
   ]
  },
  {
   "cell_type": "markdown",
   "id": "6c1491df-ca21-44fc-9a2f-2ee6ea38a506",
   "metadata": {},
   "source": [
    "Exercise 9 - Create a code cell to convert minutes to hours.\n",
    "\n",
    "This will convert 200 minutes to hours by diving by 60"
   ]
  },
  {
   "cell_type": "code",
   "execution_count": 5,
   "id": "06d8218d-fb0f-4aa7-b26f-d4f73bd341ff",
   "metadata": {},
   "outputs": [
    {
     "name": "stdout",
     "output_type": "stream",
     "text": [
      "0 days, 3.3333333333333335 hours, 0 mins. \n"
     ]
    }
   ],
   "source": [
    "days = 0\n",
    "hours = 0\n",
    "mins = 0\n",
    "\n",
    "time = 200\n",
    "#days = time / 1440\n",
    "leftover_minutes = time % 1440\n",
    "hours = leftover_minutes / 60\n",
    "#mins = time - (days*1440) - (hours*60)\n",
    "print(str(days) + \" days, \" + str(hours) + \" hours, \" + str(mins) +  \" mins. \")\n",
    "\n",
    "# Result: 3.3333333333333335 hours"
   ]
  },
  {
   "cell_type": "markdown",
   "id": "54759027-1c5e-43f4-a193-f27c086a11fc",
   "metadata": {},
   "source": [
    "Exercise 10 -Insert a markdown cell to list Objectives.\n",
    "\n",
    "Below the introduction cell created in Exercise 3, insert a new markdown cell to list the objectives that this notebook covered (i.e. some of the key takeaways from the course). In this new cell start with an introductory line titled: Objectives: in bold font. Then using an unordered list (bullets) indicate 3 to 5 items covered in this notebook, such as List popular languages for Data Science."
   ]
  },
  {
   "cell_type": "markdown",
   "id": "96774eec-fa13-4906-a7a6-5ac088e1a3df",
   "metadata": {},
   "source": [
    "Exercise 11 - Create a markdown cell to indicate the Author’s name.\n",
    "\n",
    "Author:\n",
    "MEET PATEL"
   ]
  },
  {
   "cell_type": "code",
   "execution_count": null,
   "id": "31bb4b41-d9d0-4ab5-98be-de2d5b7141e9",
   "metadata": {},
   "outputs": [],
   "source": []
  }
 ],
 "metadata": {
  "kernelspec": {
   "display_name": "Python 3 (ipykernel)",
   "language": "python",
   "name": "python3"
  },
  "language_info": {
   "codemirror_mode": {
    "name": "ipython",
    "version": 3
   },
   "file_extension": ".py",
   "mimetype": "text/x-python",
   "name": "python",
   "nbconvert_exporter": "python",
   "pygments_lexer": "ipython3",
   "version": "3.12.0"
  },
  "widgets": {
   "application/vnd.jupyter.widget-state+json": {
    "state": {},
    "version_major": 2,
    "version_minor": 0
   }
  }
 },
 "nbformat": 4,
 "nbformat_minor": 5
}
